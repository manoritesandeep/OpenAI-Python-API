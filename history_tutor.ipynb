{
 "cells": [
  {
   "cell_type": "code",
   "execution_count": 1,
   "metadata": {},
   "outputs": [],
   "source": [
    "import openai\n",
    "import os"
   ]
  },
  {
   "cell_type": "code",
   "execution_count": 3,
   "metadata": {},
   "outputs": [],
   "source": [
    "# get string of the key\n",
    "openai.api_key = os.getenv(\"OPENAI_API_KEY\")"
   ]
  },
  {
   "cell_type": "code",
   "execution_count": 5,
   "metadata": {},
   "outputs": [],
   "source": [
    "response = openai.ChatCompletion.create(\n",
    "    model = 'gpt-3.5-turbo',\n",
    "    messages= [\n",
    "    {'role': 'system','content':'You are a US history Tutor'},\n",
    "    {'role':'user','content':'Who was the first US president?'}\n",
    "    ] \n",
    ")"
   ]
  },
  {
   "cell_type": "code",
   "execution_count": 7,
   "metadata": {},
   "outputs": [
    {
     "name": "stdout",
     "output_type": "stream",
     "text": [
      "George Washington was the first president of the United States. He served two terms from 1789 to 1797.\n"
     ]
    }
   ],
   "source": [
    "print(response['choices'][0]['message']['content'])"
   ]
  },
  {
   "cell_type": "code",
   "execution_count": 8,
   "metadata": {},
   "outputs": [],
   "source": [
    "# In order to have a continous conversation\n",
    "response = openai.ChatCompletion.create(\n",
    "    model = 'gpt-3.5-turbo',\n",
    "    messages= [\n",
    "    {'role': 'system','content':'You are a US history Tutor'},\n",
    "    {'role':'user','content':'Who was the first US president?'},\n",
    "    {'role':'assistant','content':'George Washington was the first president of the United States.'},\n",
    "    {'role':'user','content':'What year was he born?'}\n",
    "    ] \n",
    ")"
   ]
  },
  {
   "cell_type": "code",
   "execution_count": 9,
   "metadata": {},
   "outputs": [
    {
     "name": "stdout",
     "output_type": "stream",
     "text": [
      "George Washington was born on February 22, 1732.\n"
     ]
    }
   ],
   "source": [
    "print(response['choices'][0]['message']['content'])"
   ]
  },
  {
   "cell_type": "code",
   "execution_count": 20,
   "metadata": {},
   "outputs": [],
   "source": [
    "class CreateBot():\n",
    "\n",
    "    def __init__(self, system_prompt) -> None:\n",
    "        self.system = system_prompt\n",
    "        self.messages = [{'role': 'system','content':system_prompt}] \n",
    "\n",
    "    def chat(self):\n",
    "\n",
    "        print('To terminate conversation, type \"END\"')\n",
    "        question = \"\"\n",
    "\n",
    "        while question != \"END\":\n",
    "            # User Input\n",
    "            question = input(\"\")\n",
    "            print(question)\n",
    "            print(\"\\n\")\n",
    "            \n",
    "            # Add to the messages list of dictionaries\n",
    "            self.messages.append({'role':'user','content':question})\n",
    "            \n",
    "            # Grab response from ChatGPT\n",
    "            response = openai.ChatCompletion.create(\n",
    "                        model = 'gpt-3.5-turbo',\n",
    "                        messages = self.messages\n",
    "                    )\n",
    "            \n",
    "            # Grab assistanct message (content)\n",
    "            content = response['choices'][0]['message']['content']\n",
    "            print(\"\\n\")\n",
    "            print(content)\n",
    "            print(\"\\n\")\n",
    "            # Add in assistant role and pass in content\n",
    "            self.messages.append({\"role\":\"assistant\",'content':content})"
   ]
  },
  {
   "cell_type": "code",
   "execution_count": 21,
   "metadata": {},
   "outputs": [],
   "source": [
    "history_tutor = CreateBot(system_prompt='You are a US history tutor')"
   ]
  },
  {
   "attachments": {},
   "cell_type": "markdown",
   "metadata": {},
   "source": [
    "Sample Questions:\n",
    "\n",
    "- who was the first US president?\n",
    "- when was he born?\n",
    "- where did he live?\n",
    "- How was his trip to Mars?"
   ]
  },
  {
   "cell_type": "code",
   "execution_count": 24,
   "metadata": {},
   "outputs": [
    {
     "name": "stdout",
     "output_type": "stream",
     "text": [
      "To terminate conversation, type \"END\"\n",
      "who was the first US president?\n",
      "\n",
      "\n",
      "\n",
      "\n",
      "The first US President was George Washington.\n",
      "\n",
      "\n",
      "when was he born?\n",
      "\n",
      "\n",
      "\n",
      "\n",
      "George Washington was born on February 22, 1732.\n",
      "\n",
      "\n",
      "where did he live during his lifetime?\n",
      "\n",
      "\n",
      "\n",
      "\n",
      "During his lifetime, George Washington lived primarily in Virginia, where he had his estate at Mount Vernon. He also spent time in various other places throughout the colonies, including military camps where he served during the French and Indian War. As the first President, he also lived in New York City and Philadelphia while he served in office.\n",
      "\n",
      "\n",
      "How was his trip to Mars?\n",
      "\n",
      "\n",
      "\n",
      "\n",
      "George Washington did not make any trips to Mars, as this is not a scientifically possible feat in his time, nor is it a part of recorded history. Washington passed away in 1799, over a century before any advances in space travel allowed humans to even contemplate trips beyond Earth's atmosphere.\n",
      "\n",
      "\n",
      "END\n",
      "\n",
      "\n",
      "\n",
      "\n",
      "Great, let me know if you have any other questions!\n",
      "\n",
      "\n"
     ]
    }
   ],
   "source": [
    "history_tutor.chat()\n"
   ]
  },
  {
   "cell_type": "code",
   "execution_count": 26,
   "metadata": {},
   "outputs": [
    {
     "name": "stdout",
     "output_type": "stream",
     "text": [
      "You are a US history tutorwho was the first US president?The first US President was George Washington.when was he born?George Washington was born on February 22, 1732.ENDGreat, let me know if you have any other questions!who was the first US president?The first US President was George Washington.when was he born?George Washington was born on February 22, 1732.where did he live?George Washington lived at Mount Vernon, a plantation located on the banks of the Potomac River in Virginia, which was his home for most of his adult life. He also spent time in various places throughout the colonies during his lifetime, and as the first President, he lived in both New York City and Philadelphia.ENDGreat, let me know if you have any other questions!who was the first US president?The first US President was George Washington.when was he born?George Washington was born on February 22, 1732.where did he live during his lifetime?During his lifetime, George Washington lived primarily in Virginia, where he had his estate at Mount Vernon. He also spent time in various other places throughout the colonies, including military camps where he served during the French and Indian War. As the first President, he also lived in New York City and Philadelphia while he served in office.How was his trip to Mars?George Washington did not make any trips to Mars, as this is not a scientifically possible feat in his time, nor is it a part of recorded history. Washington passed away in 1799, over a century before any advances in space travel allowed humans to even contemplate trips beyond Earth's atmosphere.ENDGreat, let me know if you have any other questions!\n"
     ]
    }
   ],
   "source": [
    "full_text = \"\"\n",
    "for item in history_tutor.messages:\n",
    "    full_text += item['content']\n",
    "\n",
    "print(full_text)"
   ]
  },
  {
   "cell_type": "code",
   "execution_count": 31,
   "metadata": {},
   "outputs": [
    {
     "data": {
      "text/plain": [
       "1653"
      ]
     },
     "execution_count": 31,
     "metadata": {},
     "output_type": "execute_result"
    }
   ],
   "source": [
    "len(full_text)"
   ]
  },
  {
   "cell_type": "code",
   "execution_count": 32,
   "metadata": {},
   "outputs": [
    {
     "data": {
      "text/plain": [
       "271"
      ]
     },
     "execution_count": 32,
     "metadata": {},
     "output_type": "execute_result"
    }
   ],
   "source": [
    "len(full_text.split())"
   ]
  },
  {
   "cell_type": "code",
   "execution_count": 33,
   "metadata": {},
   "outputs": [],
   "source": [
    "import tiktoken\n",
    "\n",
    "# computing tokens \n",
    "def num_tokens_from_string(string, encoding_name):\n",
    "    \"\"\"\n",
    "    Returns the number of tokens in a text string.\n",
    "    \"\"\"\n",
    "    encoding = tiktoken.get_encoding(encoding_name)\n",
    "    num_tokens = len(encoding.encode(string))\n",
    "    return num_tokens"
   ]
  },
  {
   "cell_type": "code",
   "execution_count": 34,
   "metadata": {},
   "outputs": [
    {
     "data": {
      "text/plain": [
       "342"
      ]
     },
     "execution_count": 34,
     "metadata": {},
     "output_type": "execute_result"
    }
   ],
   "source": [
    "num_tokens_from_string(full_text,encoding_name='cl100k_base')"
   ]
  },
  {
   "attachments": {},
   "cell_type": "markdown",
   "metadata": {},
   "source": [
    "Since there is limits and if you start hitting close to your limit, we can start removing the oldest pieces of your conversation."
   ]
  },
  {
   "cell_type": "code",
   "execution_count": 35,
   "metadata": {},
   "outputs": [
    {
     "data": {
      "text/plain": [
       "{'role': 'user', 'content': 'who was the first US president?'}"
      ]
     },
     "execution_count": 35,
     "metadata": {},
     "output_type": "execute_result"
    }
   ],
   "source": [
    "# Warning: Do not remove system role.\n",
    "history_tutor.messages.pop(1)"
   ]
  },
  {
   "cell_type": "code",
   "execution_count": 36,
   "metadata": {},
   "outputs": [
    {
     "data": {
      "text/plain": [
       "[{'role': 'system', 'content': 'You are a US history tutor'},\n",
       " {'role': 'assistant',\n",
       "  'content': 'The first US President was George Washington.'},\n",
       " {'role': 'user', 'content': 'when was he born?'},\n",
       " {'role': 'assistant',\n",
       "  'content': 'George Washington was born on February 22, 1732.'},\n",
       " {'role': 'user', 'content': 'END'},\n",
       " {'role': 'assistant',\n",
       "  'content': 'Great, let me know if you have any other questions!'},\n",
       " {'role': 'user', 'content': 'who was the first US president?'},\n",
       " {'role': 'assistant',\n",
       "  'content': 'The first US President was George Washington.'},\n",
       " {'role': 'user', 'content': 'when was he born?'},\n",
       " {'role': 'assistant',\n",
       "  'content': 'George Washington was born on February 22, 1732.'},\n",
       " {'role': 'user', 'content': 'where did he live?'},\n",
       " {'role': 'assistant',\n",
       "  'content': 'George Washington lived at Mount Vernon, a plantation located on the banks of the Potomac River in Virginia, which was his home for most of his adult life. He also spent time in various places throughout the colonies during his lifetime, and as the first President, he lived in both New York City and Philadelphia.'},\n",
       " {'role': 'user', 'content': 'END'},\n",
       " {'role': 'assistant',\n",
       "  'content': 'Great, let me know if you have any other questions!'},\n",
       " {'role': 'user', 'content': 'who was the first US president?'},\n",
       " {'role': 'assistant',\n",
       "  'content': 'The first US President was George Washington.'},\n",
       " {'role': 'user', 'content': 'when was he born?'},\n",
       " {'role': 'assistant',\n",
       "  'content': 'George Washington was born on February 22, 1732.'},\n",
       " {'role': 'user', 'content': 'where did he live during his lifetime?'},\n",
       " {'role': 'assistant',\n",
       "  'content': 'During his lifetime, George Washington lived primarily in Virginia, where he had his estate at Mount Vernon. He also spent time in various other places throughout the colonies, including military camps where he served during the French and Indian War. As the first President, he also lived in New York City and Philadelphia while he served in office.'},\n",
       " {'role': 'user', 'content': 'How was his trip to Mars?'},\n",
       " {'role': 'assistant',\n",
       "  'content': \"George Washington did not make any trips to Mars, as this is not a scientifically possible feat in his time, nor is it a part of recorded history. Washington passed away in 1799, over a century before any advances in space travel allowed humans to even contemplate trips beyond Earth's atmosphere.\"},\n",
       " {'role': 'user', 'content': 'END'},\n",
       " {'role': 'assistant',\n",
       "  'content': 'Great, let me know if you have any other questions!'}]"
      ]
     },
     "execution_count": 36,
     "metadata": {},
     "output_type": "execute_result"
    }
   ],
   "source": [
    "history_tutor.messages"
   ]
  }
 ],
 "metadata": {
  "kernelspec": {
   "display_name": "venv_openAIproject",
   "language": "python",
   "name": "python3"
  },
  "language_info": {
   "codemirror_mode": {
    "name": "ipython",
    "version": 3
   },
   "file_extension": ".py",
   "mimetype": "text/x-python",
   "name": "python",
   "nbconvert_exporter": "python",
   "pygments_lexer": "ipython3",
   "version": "3.8.10"
  },
  "orig_nbformat": 4
 },
 "nbformat": 4,
 "nbformat_minor": 2
}
