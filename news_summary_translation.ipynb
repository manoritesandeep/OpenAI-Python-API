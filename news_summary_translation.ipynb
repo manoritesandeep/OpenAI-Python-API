{
 "cells": [
  {
   "cell_type": "code",
   "execution_count": 1,
   "metadata": {},
   "outputs": [],
   "source": [
    "import openai\n",
    "import os"
   ]
  },
  {
   "cell_type": "code",
   "execution_count": 3,
   "metadata": {},
   "outputs": [],
   "source": [
    "# get string of the key\n",
    "openai.api_key = os.getenv(\"OPENAI_API_KEY\")"
   ]
  },
  {
   "cell_type": "code",
   "execution_count": 4,
   "metadata": {},
   "outputs": [],
   "source": [
    "country = input(\"What country are you interested in for news?\").lower()"
   ]
  },
  {
   "cell_type": "code",
   "execution_count": 5,
   "metadata": {},
   "outputs": [
    {
     "data": {
      "text/plain": [
       "'france'"
      ]
     },
     "execution_count": 5,
     "metadata": {},
     "output_type": "execute_result"
    }
   ],
   "source": [
    "country"
   ]
  },
  {
   "attachments": {},
   "cell_type": "markdown",
   "metadata": {},
   "source": [
    "For this we are limiting to Spain, France"
   ]
  },
  {
   "cell_type": "code",
   "execution_count": 6,
   "metadata": {},
   "outputs": [],
   "source": [
    "country_newspapers = {\"Spain\".lower():\"https://elpais.com/\",\n",
    "                      \"France\".lower():\"https://www.lemonde.fr/\"}"
   ]
  },
  {
   "cell_type": "code",
   "execution_count": 7,
   "metadata": {},
   "outputs": [
    {
     "data": {
      "text/plain": [
       "'https://www.lemonde.fr/'"
      ]
     },
     "execution_count": 7,
     "metadata": {},
     "output_type": "execute_result"
    }
   ],
   "source": [
    "country_newspapers[country]"
   ]
  },
  {
   "cell_type": "code",
   "execution_count": 8,
   "metadata": {},
   "outputs": [],
   "source": [
    "import requests\n",
    "import bs4"
   ]
  },
  {
   "cell_type": "code",
   "execution_count": 9,
   "metadata": {},
   "outputs": [],
   "source": [
    "url = country_newspapers[country]"
   ]
  },
  {
   "cell_type": "code",
   "execution_count": 10,
   "metadata": {},
   "outputs": [],
   "source": [
    "result = requests.get(url)"
   ]
  },
  {
   "cell_type": "code",
   "execution_count": 11,
   "metadata": {},
   "outputs": [],
   "source": [
    "tag = \"article__title-label\""
   ]
  },
  {
   "cell_type": "code",
   "execution_count": 12,
   "metadata": {},
   "outputs": [],
   "source": [
    "soup = bs4.BeautifulSoup(result.text,'lxml')"
   ]
  },
  {
   "cell_type": "code",
   "execution_count": 13,
   "metadata": {},
   "outputs": [
    {
     "data": {
      "text/plain": [
       "[<p class=\"article__title-label\">En direct : pour les manifestants à Lyon, « Macron n’écoute pas, il se comporte comme un roi »</p>]"
      ]
     },
     "execution_count": 13,
     "metadata": {},
     "output_type": "execute_result"
    }
   ],
   "source": [
    "soup.select('.article__title-label')"
   ]
  },
  {
   "cell_type": "code",
   "execution_count": 16,
   "metadata": {},
   "outputs": [
    {
     "data": {
      "text/plain": [
       "[<p class=\"article__title\">Aux Etats-Unis, la Réserve fédérale poursuit sa hausse des taux, en dépit de la crise financière et du risque de récession</p>,\n",
       " <p class=\"article__title\">Dans le sillage de ChatGPT, la course à l’intelligence artificielle</p>,\n",
       " <p class=\"article__title\">« Le bilan de la Silicon Valley Bank n’était pas si mauvais, mais placé en obligations »</p>]"
      ]
     },
     "execution_count": 16,
     "metadata": {},
     "output_type": "execute_result"
    }
   ],
   "source": [
    "# other tags\n",
    "tag = \"article__title\"\n",
    "len(soup.select('.article__title'))\n",
    "soup.select('.article__title')[:3]  # Top 3 headline"
   ]
  },
  {
   "cell_type": "code",
   "execution_count": 17,
   "metadata": {},
   "outputs": [
    {
     "data": {
      "text/plain": [
       "'Aux Etats-Unis, la Réserve fédérale poursuit sa hausse des taux, en dépit de la crise financière et du risque de récession'"
      ]
     },
     "execution_count": 17,
     "metadata": {},
     "output_type": "execute_result"
    }
   ],
   "source": [
    "soup.select('.article__title')[0].getText()"
   ]
  },
  {
   "cell_type": "code",
   "execution_count": 18,
   "metadata": {},
   "outputs": [
    {
     "name": "stdout",
     "output_type": "stream",
     "text": [
      "Aux Etats-Unis, la Réserve fédérale poursuit sa hausse des taux, en dépit de la crise financière et du risque de récession\n",
      "Dans le sillage de ChatGPT, la course à l’intelligence artificielle\n",
      "« Le bilan de la Silicon Valley Bank n’était pas si mauvais, mais placé en obligations »\n"
     ]
    }
   ],
   "source": [
    "for item in soup.select('.article__title')[:3]:\n",
    "    print(item.getText())"
   ]
  },
  {
   "cell_type": "code",
   "execution_count": 28,
   "metadata": {},
   "outputs": [],
   "source": [
    "# add tags to dict\n",
    "# Country: (URL, TAG)\n",
    "country_newspapers = {\"Spain\".lower():(\"https://elpais.com/\",'.c_t '),\n",
    "                      \"France\".lower():(\"https://www.lemonde.fr/\",'.article__title-label')}"
   ]
  },
  {
   "cell_type": "code",
   "execution_count": 33,
   "metadata": {},
   "outputs": [],
   "source": [
    "def create_news_prompt():\n",
    "    country = input(\"What would you like a news summary for? \").lower()\n",
    "\n",
    "    try:\n",
    "        url,tag = country_newspapers[country]\n",
    "    except:\n",
    "        print(\"Sorry, country not supported\")\n",
    "        return\n",
    "    \n",
    "    #Scrape website\n",
    "    results = requests.get(url)\n",
    "    soup = bs4.BeautifulSoup(result.text,'lxml')\n",
    "\n",
    "    # grab all the text\n",
    "    country_headlines= \"\"\n",
    "    for item in soup.select(tag)[:3]:\n",
    "        country_headlines += item.getText() + \"\\n\"\n",
    "\n",
    "    prompt = \"Detect the language of the news headlines, then translate a summary of the headlines to English in a conversational tone.\\n\"\n",
    "    return prompt + country_headlines\n"
   ]
  },
  {
   "cell_type": "code",
   "execution_count": 36,
   "metadata": {},
   "outputs": [
    {
     "name": "stdout",
     "output_type": "stream",
     "text": [
      "Detect the language of the news headlines, then translate a summary of the headlines to English in a conversational tone.\n",
      "En direct : pour les manifestants à Lyon, « Macron n’écoute pas, il se comporte comme un roi »\n",
      "\n"
     ]
    }
   ],
   "source": [
    "prompt = create_news_prompt()\n",
    "print(prompt)"
   ]
  },
  {
   "cell_type": "code",
   "execution_count": 38,
   "metadata": {},
   "outputs": [],
   "source": [
    "response = openai.Completion.create(\n",
    "    model = 'text-davinci-003',\n",
    "    prompt = prompt,\n",
    "    max_tokens = 200,\n",
    "    temperature = 0.1,\n",
    "    top_p = 1.0\n",
    ")"
   ]
  },
  {
   "cell_type": "code",
   "execution_count": 39,
   "metadata": {},
   "outputs": [
    {
     "name": "stdout",
     "output_type": "stream",
     "text": [
      "\n",
      "The news headline is in French. A translation of the headline in a conversational tone would be: Protesters in Lyon are saying that President Macron is not listening to them and is acting like a king.\n"
     ]
    }
   ],
   "source": [
    "print(response['choices'][0]['text'])"
   ]
  }
 ],
 "metadata": {
  "kernelspec": {
   "display_name": "venv_openAIproject",
   "language": "python",
   "name": "python3"
  },
  "language_info": {
   "codemirror_mode": {
    "name": "ipython",
    "version": 3
   },
   "file_extension": ".py",
   "mimetype": "text/x-python",
   "name": "python",
   "nbconvert_exporter": "python",
   "pygments_lexer": "ipython3",
   "version": "3.8.10"
  },
  "orig_nbformat": 4
 },
 "nbformat": 4,
 "nbformat_minor": 2
}
